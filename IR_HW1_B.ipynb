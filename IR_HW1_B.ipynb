{
 "cells": [
  {
   "cell_type": "markdown",
   "metadata": {},
   "source": [
    "### Step by step design\n",
    "1. Simulate Rankings of Relevance E and P\n",
    "2. Calculate delta ERR\n",
    "3. Implement Team-Draft (5pts) and Probabilistic Interleaving (35pts)\n",
    "4. Simulate User Clicks (40pts)\n",
    "5. Simulate Interleaving Experiment\n",
    "6. Compute Sample Size\n",
    "7. Analysis (20pts)\n",
    "\n",
    "Homework description: https://docs.google.com/document/d/1sNat5t1asD6Jj7eCSWo_9esHoFYWrw9wjwE3kMdgMxc/edit#\n",
    "\n"
   ]
  },
  {
   "cell_type": "code",
   "execution_count": 2,
   "metadata": {},
   "outputs": [],
   "source": [
    "import numpy as np\n",
    "import itertools\n",
    "import random as rnd\n",
    "import math\n",
    "from copy import deepcopy\n",
    "from scipy.stats import norm\n",
    "import matplotlib.pyplot as plt"
   ]
  },
  {
   "cell_type": "code",
   "execution_count": 3,
   "metadata": {},
   "outputs": [],
   "source": [
    "CUT_OFF_RANK = 3\n",
    "ranking_scale = range(2)"
   ]
  },
  {
   "cell_type": "code",
   "execution_count": 38,
   "metadata": {},
   "outputs": [],
   "source": [
    "# Simulate all pairs of E and P\n",
    "ranking_results = list(itertools.product(ranking_scale, repeat=CUT_OFF_RANK))\n",
    "all_pairs = list(itertools.product(ranking_results, repeat=2))"
   ]
  },
  {
   "cell_type": "code",
   "execution_count": 5,
   "metadata": {},
   "outputs": [],
   "source": [
    "############# CALCULATE ERR #############\n",
    "\n",
    "def rel_grade_to_prob(grade):\n",
    "    #map relevance grade to probability\n",
    "    R_i = (2**grade)-1 / 2**(np.amax(ranking_scale))\n",
    "    return R_i\n",
    "\n",
    "\n",
    "def compute_err(ranked_results):\n",
    "    #According to Algorithm 2 in ERR-paper\n",
    "    err = 0    \n",
    "    for r in range(1,CUT_OFF_RANK+1):        \n",
    "        R_r = rel_grade_to_prob(ranked_results[r-1])\n",
    "        for i in range(1,r):\n",
    "            R_i = rel_grade_to_prob(ranked_results[i-1])\n",
    "            R_r = R_r * (1-R_i)        \n",
    "        err += R_r / r\n",
    "        \n",
    "    return err"
   ]
  },
  {
   "cell_type": "code",
   "execution_count": 32,
   "metadata": {},
   "outputs": [],
   "source": [
    "# Create lookup table for ranked_results - ERR\n",
    "dict_results_err = {}\n",
    "for ranked_list in ranking_results:\n",
    "    dict_results_err[ranked_list] = compute_err(ranked_list)\n",
    "    \n"
   ]
  },
  {
   "cell_type": "code",
   "execution_count": 33,
   "metadata": {},
   "outputs": [],
   "source": [
    "# Creating the bins for delta ERR\n",
    "lower_bonds = np.round(np.linspace(0,1,num=10, endpoint=False), decimals=2)\n",
    "lower_bonds[0] = 0.05\n",
    "upper_bonds = np.round(np.linspace(0.1,1,num=10), decimals=2)\n",
    "upper_bonds[-1] = 0.95\n",
    "bins = list(zip(lower_bonds, upper_bonds))\n"
   ]
  },
  {
   "cell_type": "code",
   "execution_count": 41,
   "metadata": {},
   "outputs": [],
   "source": [
    "############# CALCULATE DELTA ERR #############\n",
    "\n",
    "#Compute delta ERR\n",
    "dict_rel_pairs = {}\n",
    "for upper in upper_bonds:\n",
    "    dict_rel_pairs[upper] = []\n",
    "all_delta_err = []\n",
    "rel_delta_err = []\n",
    "\n",
    "for pair in all_pairs:    \n",
    "    #compute delta ERR   \n",
    "    delta_err = dict_results_err[pair[0]] - dict_results_err[pair[1]]    \n",
    "    #add pair to corresponding group if E outperforms P\n",
    "    if delta_err > lower_bonds[0]:        \n",
    "        for bond in upper_bonds:            \n",
    "            if delta_err < bond:                \n",
    "                dict_rel_pairs[bond].append(pair)                \n",
    "                rel_delta_err.append(delta_err)                \n",
    "                break"
   ]
  },
  {
   "cell_type": "code",
   "execution_count": 11,
   "metadata": {},
   "outputs": [
    {
     "data": {
      "text/plain": [
       "<matplotlib.text.Text at 0x2700cb599e8>"
      ]
     },
     "execution_count": 11,
     "metadata": {},
     "output_type": "execute_result"
    },
    {
     "data": {
      "image/png": "[encoded data removed]",
      "text/plain": [
       "<matplotlib.figure.Figure at 0x2700cb10d68>"
      ]
     },
     "metadata": {
      "needs_background": "light"
     },
     "output_type": "display_data"
    }
   ],
   "source": [
    "# Distribution of delta ERR over the bins\n",
    "plt.hist(rel_delta_err, bins=10)\n",
    "plt.ylabel(\"Number of pairs\")\n",
    "plt.xlabel(\"Delta ERR\")"
   ]
  },
  {
   "cell_type": "code",
   "execution_count": 12,
   "metadata": {},
   "outputs": [],
   "source": [
    "# add document numbers which allow that the documents returned can be distict but also can overlap\n",
    "# we considered there are 30 distinct documents in the collection D\n",
    "# we need these numbers for correctly computing Team-Draft/Probabilistic Interleaving\n",
    "def assign_doc_labels(pair):\n",
    "    labeled_pair = []\n",
    "    for ranked_list in pair:\n",
    "        doc_labels = []\n",
    "        docs_l = rnd.sample(range(1, 30), 3)        \n",
    "        for i in docs_l:\n",
    "            #generate doc labels\n",
    "            doc_labels.append(\"d{0}\".format(i))\n",
    "            \n",
    "        labeled_pair.append(list(zip(doc_labels,ranked_list)))\n",
    "    return labeled_pair"
   ]
  },
  {
   "cell_type": "code",
   "execution_count": 13,
   "metadata": {},
   "outputs": [],
   "source": [
    "# TEAM-DRAFT INTERLEAVING\n",
    "\n",
    "# function which deletes a document from a list of documents\n",
    "def remove_document_from_list(d, d_list):    \n",
    "    for doc in d_list:        \n",
    "        if d[0] == doc[0]:\n",
    "            d_list.remove(doc)\n",
    "            break\n",
    "\n",
    "# function which computes the interleaved list based on Team-Draft approach\n",
    "def team_draft_interleaving(pair, max_length=3):\n",
    "    \n",
    "    labeled_pair = assign_doc_labels(pair) # list(doc_id , relevance_grade)\n",
    "    teams = {\"E\": list(labeled_pair[0]), \"P\": list(labeled_pair[1])}\n",
    "    interleaved_list = []\n",
    "    team_E = 0\n",
    "    team_P = 0   \n",
    "    \n",
    "    while(len(interleaved_list) < max_length):        \n",
    "        if team_E < team_P:\n",
    "            chosen_team = 'E'                  \n",
    "            chosen_doc = teams['E'].pop(0)\n",
    "            team_E += 1\n",
    "            remove_document_from_list(chosen_doc,teams['P'])\n",
    "        elif team_E > team_P:\n",
    "            chosen_team = 'P'                    \n",
    "            chosen_doc = teams['P'].pop(0)\n",
    "            team_P += 1\n",
    "            remove_document_from_list(chosen_doc,teams['E'])\n",
    "        elif team_E == team_P:\n",
    "            chosen_team = rnd.choice(list(teams.keys()))        \n",
    "            chosen_doc = teams[chosen_team].pop(0)\n",
    "            if chosen_team == 'E':               \n",
    "                team_E += 1\n",
    "                remove_document_from_list(chosen_doc,teams['P'])\n",
    "            else:             \n",
    "                team_P += 1\n",
    "                remove_document_from_list(chosen_doc,teams['E'])                \n",
    "                \n",
    "        interleaved_list.append((chosen_team,chosen_doc[1]))        \n",
    "\n",
    "    return interleaved_list"
   ]
  },
  {
   "cell_type": "code",
   "execution_count": 34,
   "metadata": {},
   "outputs": [],
   "source": [
    "# PROBABILISTIC INTERLEAVING\n",
    "\n",
    "def inverse_power(x, power):\n",
    "    return 1/(x**power)\n",
    "\n",
    "def softmax_probabilities(num_ranks, tau=3):\n",
    "    #Following formula (1) from Probabilistic Interleaving paper\n",
    "    softmax_probs = []\n",
    "    ranks = range(1, num_ranks+1)\n",
    "    denominator = sum(list(inverse_power(r,tau) for r in ranks))    \n",
    "    for rank in ranks:\n",
    "        softmax_probs.append(inverse_power(rank,tau)/denominator)\n",
    "    \n",
    "    return softmax_probs\n",
    "\n",
    "# Function which computes the interleaved list based on Probabilistic approach \n",
    "def probabilistic_interleaving(pair, max_length=3):\n",
    "    interleaved_list = []\n",
    "    labeled_pair = assign_doc_labels(pair) # list(doc_id , relevance_grade)\n",
    "    teams = {\"E\": list(labeled_pair[0]), \"P\": list(labeled_pair[1])}\n",
    "    \n",
    "    while(len(interleaved_list) < max_length):\n",
    "        chosen_team = rnd.choice(list(teams.keys()))\n",
    "        if chosen_team == 'E':\n",
    "            other_team = 'P'\n",
    "        else:\n",
    "            other_team = 'E'            \n",
    "        chosen_list = teams[chosen_team]        \n",
    "        \n",
    "        softmax_samples = softmax_probabilities(len(chosen_list))\n",
    "        uni_sample = np.random.uniform(low=0.0, high=1.0)\n",
    "        threshold = 0\n",
    "        #select doc from list with respect to probabilities\n",
    "        for prob in softmax_samples:\n",
    "            threshold += prob            \n",
    "            if uni_sample < threshold:                \n",
    "                chosen_doc = chosen_list.pop(softmax_samples.index(prob))\n",
    "                remove_document_from_list(chosen_doc,teams[other_team])            \n",
    "                interleaved_list.append((chosen_team,chosen_doc[1]))                  \n",
    "                break               \n",
    "    \n",
    "    return interleaved_list"
   ]
  },
  {
   "cell_type": "code",
   "execution_count": 36,
   "metadata": {},
   "outputs": [],
   "source": [
    "# POSITION-BASED CLICK MODEL   \n",
    "cut_off = 3\n",
    "\n",
    "# reading the document and creating the dictionaries for storing the relevant data\n",
    "f = open('YandexRelPredChallenge.txt','r')\n",
    "d_query = {}\n",
    "d_doc_for_query = {}\n",
    "i = 0\n",
    "for line in f:   \n",
    "    l = line.split()    \n",
    "    \n",
    "    if(l[2] == 'Q'):\n",
    "        if(l[3] not in d_query.keys()):\n",
    "            d_query[l[3]] = []\n",
    "            d_doc_for_query[l[3]] = []\n",
    "        \n",
    "        d_doc_for_query[l[3]] = list(set().union(d_doc_for_query[l[3]],l[5:5+cut_off]))\n",
    "        d_query[l[3]].append([])\n",
    "        \n",
    "        urls = l[5:5+cut_off]\n",
    "        d_query[l[3]][len(d_query[l[3]]) - 1].append(urls)\n",
    "        d_query[l[3]][len(d_query[l[3]]) - 1].append([])\n",
    "        \n",
    "        last_query = l[3]\n",
    "    \n",
    "    else:\n",
    "        if l[3] in d_query[last_query][len(d_query[last_query]) - 1][0]:\n",
    "            d_query[last_query][len(d_query[last_query]) - 1][1].append(l[3])            \n",
    "\n"
   ]
  },
  {
   "cell_type": "code",
   "execution_count": 35,
   "metadata": {},
   "outputs": [],
   "source": [
    "# computing the total number of sessions in the document\n",
    "def session_number(d_query):\n",
    "    sess_nr = 2\n",
    "    for query in d_query.keys():\n",
    "        sess_nr += len(d_query[query])\n",
    "    return sess_nr\n",
    "\n",
    "sess_nr = session_number(d_query)"
   ]
  },
  {
   "cell_type": "code",
   "execution_count": 22,
   "metadata": {},
   "outputs": [],
   "source": [
    "# EM algorithm for Position-Based Model\n",
    "# calculates the values of alphas and gammas\n",
    "def position_based_model():                \n",
    "    # initialize alphas\n",
    "    alpha_q_u = {}\n",
    "    for query in d_doc_for_query.keys():\n",
    "        for doc in d_doc_for_query[query]:\n",
    "            alpha_q_u[query+'_'+doc] = rnd.uniform(0,1)\n",
    "    # initialize gammas\n",
    "    gamma_r = {}\n",
    "    for i in range(cut_off):\n",
    "        gamma_r[str(i+1)] = rnd.uniform(0,1)\n",
    "\n",
    "\n",
    "    T = 100\n",
    "\n",
    "    for t in range(T):\n",
    "        # gammas update at iteration t \n",
    "        old_gamma_r = deepcopy(gamma_r)\n",
    "        \n",
    "        suma = [1]*cut_off\n",
    "        for q in d_query.keys():\n",
    "            for s,c in d_query[q]:\n",
    "                for i in range(cut_off):\n",
    "                    if s[i] in c:\n",
    "                        suma[i] += 1\n",
    "                    else:\n",
    "                        alpha_key = q + '_' + s[i]\n",
    "                        suma[i] += (gamma_r[str(i+1)]*(1 - alpha_q_u[alpha_key]))/(1 - (gamma_r[str(i+1)]*alpha_q_u[alpha_key]))\n",
    "\n",
    "        for i in range(cut_off):\n",
    "            gamma_r[str(i+1)] = suma[i]/sess_nr\n",
    "\n",
    "        # alphas update at iteration t\n",
    "        for q in d_doc_for_query.keys():\n",
    "            for u in d_doc_for_query[q]:\n",
    "                alpha_key = q + '_' + u\n",
    "\n",
    "                suma1 = 1\n",
    "                S_u_q = 2\n",
    "\n",
    "                for s,c in d_query[q]:\n",
    "                    if u in s:\n",
    "                        S_u_q += 1                    \n",
    "                        if u in c:\n",
    "                            suma1 += 1\n",
    "                        else:\n",
    "                            index = s.index(u) \n",
    "                            suma1 += ((1 - old_gamma_r[str(index+1)])*alpha_q_u[alpha_key])/(1 - (old_gamma_r[str(index+1)]*alpha_q_u[alpha_key]))\n",
    "\n",
    "                alpha_q_u[alpha_key] = suma1/S_u_q\n",
    "        \n",
    "    return gamma_r"
   ]
  },
  {
   "cell_type": "code",
   "execution_count": 23,
   "metadata": {},
   "outputs": [
    {
     "name": "stdout",
     "output_type": "stream",
     "text": [
      "0.9994884959352852 0.48277833113743346 0.33363043278882926\n"
     ]
    }
   ],
   "source": [
    "# Getting gamma values\n",
    "gamma_r = position_based_model()\n",
    "print(str(gamma_r['1']) + ' ' + str(gamma_r['2']) + ' ' + str(gamma_r['3']))"
   ]
  },
  {
   "cell_type": "code",
   "execution_count": 39,
   "metadata": {},
   "outputs": [],
   "source": [
    "#################    GETTING THE PROBABILITIES FROM PBM/RCM ###################\n",
    "\n",
    "# Function wich computes the probabilities based on gammas from PBM and epsilon\n",
    "def position_based_model_probs(ranked_list, epsilon = 0.1):\n",
    "    probs = []\n",
    "    r = 1\n",
    "    for _, rel in ranked_list:\n",
    "        if rel == 1:\n",
    "            probs.append((1-epsilon)*gamma_r[str(r)])\n",
    "        else: \n",
    "            probs.append(epsilon*gamma_r[str(r)])\n",
    "        r += 1\n",
    "    return probs\n",
    "  \n",
    "# Function which calculates the total number of clicks used to compute rho for Random Click Model\n",
    "def click_number(d_query):    \t\n",
    "    click_nr = 0\n",
    "    for query in d_query.keys():\n",
    "        for s,c in d_query[query]:\n",
    "            click_nr += len(c)\n",
    "    return click_nr\n",
    "\n",
    "# Computing the probabilities for Random Click Model\n",
    "def random_click_model_probs():\n",
    "    rho = click_number(d_query)/(session_number(d_query)*CUT_OFF_RANK)\n",
    "    return [rho]*CUT_OFF_RANK\n"
   ]
  },
  {
   "cell_type": "code",
   "execution_count": 40,
   "metadata": {},
   "outputs": [],
   "source": [
    "##################### SIMULATION OF USER CLICKS #########################\n",
    "\n",
    "# Function which simulates the user clicks based on probabilities given by PBM/RCM\n",
    "def sim_clicks(ranked_list, probs, epsilon = 0.1):\n",
    "    clicks = []\n",
    "    for r in range(CUT_OFF_RANK): \n",
    "        ran = rnd.uniform(0,1)\n",
    "        if probs[r] < ran:\n",
    "            clicks.append(1)\n",
    "        else: \n",
    "            clicks.append(0)\n",
    "    return clicks\n",
    "\n",
    "# Function which calculates the winner system of a click simulation\n",
    "def winner(interleaved_list, probs, epsilon = 0.1):\n",
    "    clicks = sim_clicks(interleaved_list, probs, epsilon = 0.1)\n",
    "    wins_E = 0\n",
    "    wins_P = 0\n",
    "    r = 0\n",
    "    for alg, _ in interleaved_list:\n",
    "        if clicks[r] == 1:\n",
    "            if alg == 'E':\n",
    "                wins_E += 1\n",
    "            else:\n",
    "                wins_P += 1\n",
    "        r += 1\n",
    "    if wins_E > wins_P:\n",
    "        return 1\n",
    "    elif wins_E < wins_P:\n",
    "        return -1\n",
    "    return 0\n",
    "\n",
    "\n",
    "# interleaving: 0 - Team_Draft,           1 - Probabilistic\n",
    "# click_model:  0 - Position-Based-Model, 1 - Random-Click-Model\n",
    "\n",
    "# Function which calculates the percentage of wins of system E\n",
    "def simulation(pair, interleaving, click_model, rho, K = 10000, epsilon = 0.1):\n",
    "    if interleaving  == 0:\n",
    "        interleaved_list = team_draft_interleaving(pair, CUT_OFF_RANK)\n",
    "    else:\n",
    "        interleaved_list = probabilistic_interleaving(pair, CUT_OFF_RANK)\n",
    "\n",
    "    if click_model == 0:\n",
    "        probs = position_based_model_probs(interleaved_list,epsilon)\n",
    "    else:\n",
    "        probs = rho  \n",
    "\n",
    "    wins_E = 0\n",
    "    wins_P = 0\n",
    "    \n",
    "    for k in range(K):\n",
    "        if winner(interleaved_list, probs, epsilon) == 1:\n",
    "            wins_E += 1\n",
    "        elif winner(interleaved_list, probs, epsilon) == -1:\n",
    "            wins_P += 1\n",
    " \n",
    "    if (wins_E + wins_P) != 0:\n",
    "        return wins_E/(wins_E + wins_P)\n",
    "    return 0\n",
    "\n",
    "\n",
    "# Function which computes sample size from p value, alpha(0.05) and beta(0.10)\n",
    "def sample_size(p):\n",
    "    z = norm.ppf(0.95)*math.sqrt(0.5*0.5) + norm.ppf(0.90)*math.sqrt(p*(1-p))\n",
    "    if z == 0.0 or p == 0.5:\n",
    "        return -1\n",
    "    else:\n",
    "        return ((z/(abs(p-0.5)))**2) + 1/abs(p-0.5)\n"
   ]
  },
  {
   "cell_type": "code",
   "execution_count": 27,
   "metadata": {},
   "outputs": [],
   "source": [
    "#################   FILL THE TABLES  #################\n",
    "\n",
    "# Function which computes min, median, max sample size values for a bin\n",
    "def bin_min_median_max(err_bin, interleaving, click_model, K = 100, epsilon = 0.1, M = 1000):\n",
    "    rho = random_click_model_probs()\n",
    "    bin_sample_sizes = []\n",
    "    for pair in err_bin:\n",
    "        for m in range(M):\n",
    "            p = simulation(pair, interleaving, click_model, rho, K , epsilon)\n",
    "            #print(p)\n",
    "            n = sample_size(p)\n",
    "            if n != -1:\n",
    "                bin_sample_sizes.append(n)    \n",
    "    \n",
    "    average = np.round(np.mean(bin_sample_sizes))\n",
    "    mini = min(bin_sample_sizes)\n",
    "    std_values = []\n",
    "    for val in bin_sample_sizes:\n",
    "        if (val >= mini) and (val <= (average + average - mini)):\n",
    "            std_values.append(val)\n",
    "            \n",
    "    std = np.std(std_values)    \n",
    "    plt.hist(bin_sample_sizes, bins=range(0,100,3))\n",
    "    return np.round(average - std), average, np.round(average + std)\n",
    "\n",
    "# Function witch computes the values for all bins\n",
    "def fill_table(all_bins, interleaving , click_model, K = 100, epsilon = 0.1, M = 1000):\n",
    "    table = {}\n",
    "    for bin_key in all_bins.keys():\n",
    "        if len(all_bins[bin_key]) > 0:\n",
    "            table[bin_key] = list(bin_min_median_max(all_bins[bin_key],interleaving,click_model,K, epsilon ,M))\n",
    "            \n",
    "    return table"
   ]
  },
  {
   "cell_type": "code",
   "execution_count": 28,
   "metadata": {},
   "outputs": [
    {
     "data": {
      "image/png": "[encoded data removed]",
      "text/plain": [
       "<matplotlib.figure.Figure at 0x2700ec89898>"
      ]
     },
     "metadata": {
      "needs_background": "light"
     },
     "output_type": "display_data"
    }
   ],
   "source": [
    "# Team-draft Interleaving with Position-Based Click Model\n",
    "table_0_0 = fill_table(dict_rel_pairs, 0 , 0, K = 100, epsilon = 0.1, M = 1000)"
   ]
  },
  {
   "cell_type": "code",
   "execution_count": 29,
   "metadata": {},
   "outputs": [
    {
     "data": {
      "image/png": "[encoded data removed]",
      "text/plain": [
       "<matplotlib.figure.Figure at 0x2700edcd6d8>"
      ]
     },
     "metadata": {
      "needs_background": "light"
     },
     "output_type": "display_data"
    }
   ],
   "source": [
    "# Team-draft Interleaving with Random Click Model\n",
    "table_0_1 = fill_table(dict_rel_pairs, 0 , 1, K = 100, epsilon = 0.1, M = 1000)"
   ]
  },
  {
   "cell_type": "code",
   "execution_count": 30,
   "metadata": {},
   "outputs": [
    {
     "data": {
      "image/png": "[encoded data removed]",
      "text/plain": [
       "<matplotlib.figure.Figure at 0x2700ec279b0>"
      ]
     },
     "metadata": {
      "needs_background": "light"
     },
     "output_type": "display_data"
    }
   ],
   "source": [
    "# Probabilistic Interleaving with Position-Based Click Model\n",
    "table_1_0 = fill_table(dict_rel_pairs, 1 , 0, K = 100, epsilon = 0.1, M = 1000)"
   ]
  },
  {
   "cell_type": "code",
   "execution_count": 31,
   "metadata": {},
   "outputs": [
    {
     "data": {
      "image/png": "[encoded data removed]",
      "text/plain": [
       "<matplotlib.figure.Figure at 0x2700f5f44e0>"
      ]
     },
     "metadata": {
      "needs_background": "light"
     },
     "output_type": "display_data"
    }
   ],
   "source": [
    "# Probabilistic Interleaving with Random Click Model\n",
    "table_1_1 = fill_table(dict_rel_pairs, 1 , 1, K = 100, epsilon = 0.1, M = 1000)"
   ]
  },
  {
   "cell_type": "code",
   "execution_count": null,
   "metadata": {},
   "outputs": [],
   "source": []
  }
 ],
 "metadata": {
  "kernelspec": {
   "display_name": "Python 3",
   "language": "python",
   "name": "python3"
  },
  "language_info": {
   "codemirror_mode": {
    "name": "ipython",
    "version": 3
   },
   "file_extension": ".py",
   "mimetype": "text/x-python",
   "name": "python",
   "nbconvert_exporter": "python",
   "pygments_lexer": "ipython3",
   "version": "3.6.2"
  }
 },
 "nbformat": 4,
 "nbformat_minor": 2
}
