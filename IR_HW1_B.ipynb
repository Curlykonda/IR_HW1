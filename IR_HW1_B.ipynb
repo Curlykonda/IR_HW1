{
 "cells": [
  {
   "cell_type": "markdown",
   "metadata": {},
   "source": [
    "### Step by step design\n",
    "1. Simulate Rankings of Relevance E and P\n",
    "2. Calculate delta ERR\n",
    "3. Implement Team-Draft (5pts) and Probabilistic Interleaving (35pts)\n",
    "4. Simulate User Clicks (40pts)\n",
    "5. Simulate Interleaving Experiment\n",
    "6. Compute Sample Size\n",
    "7. Analysis (20pts)\n",
    "\n",
    "Homework description: https://docs.google.com/document/d/1sNat5t1asD6Jj7eCSWo_9esHoFYWrw9wjwE3kMdgMxc/edit#\n",
    "\n"
   ]
  },
  {
   "cell_type": "code",
   "execution_count": 2,
   "metadata": {},
   "outputs": [
    {
     "ename": "ModuleNotFoundError",
     "evalue": "No module named 'seaborn'",
     "output_type": "error",
     "traceback": [
      "\u001b[1;31m---------------------------------------------------------------------------\u001b[0m",
      "\u001b[1;31mModuleNotFoundError\u001b[0m                       Traceback (most recent call last)",
      "\u001b[1;32m<ipython-input-2-1738a3165fb8>\u001b[0m in \u001b[0;36m<module>\u001b[1;34m\u001b[0m\n\u001b[0;32m      4\u001b[0m \u001b[1;33m\u001b[0m\u001b[0m\n\u001b[0;32m      5\u001b[0m \u001b[1;32mimport\u001b[0m \u001b[0mmatplotlib\u001b[0m\u001b[1;33m.\u001b[0m\u001b[0mpyplot\u001b[0m \u001b[1;32mas\u001b[0m \u001b[0mplt\u001b[0m\u001b[1;33m\u001b[0m\u001b[0m\n\u001b[1;32m----> 6\u001b[1;33m \u001b[1;32mimport\u001b[0m \u001b[0mseaborn\u001b[0m \u001b[1;32mas\u001b[0m \u001b[0msns\u001b[0m\u001b[1;33m\u001b[0m\u001b[0m\n\u001b[0m",
      "\u001b[1;31mModuleNotFoundError\u001b[0m: No module named 'seaborn'"
     ]
    }
   ],
   "source": [
    "import numpy as np\n",
    "import itertools\n",
    "import random as rnd\n",
    "\n",
    "import matplotlib.pyplot as plt\n",
    "import seaborn as sns"
   ]
  },
  {
   "cell_type": "code",
   "execution_count": 3,
   "metadata": {},
   "outputs": [],
   "source": [
    "CUT_OFF_RANK = 3\n",
    "ranking_scale = range(2)"
   ]
  },
  {
   "cell_type": "code",
   "execution_count": 4,
   "metadata": {},
   "outputs": [
    {
     "name": "stdout",
     "output_type": "stream",
     "text": [
      "[(0, 0, 0), (0, 0, 1), (0, 1, 0), (0, 1, 1), (1, 0, 0), (1, 0, 1), (1, 1, 0), (1, 1, 1)]\n",
      "64\n"
     ]
    }
   ],
   "source": [
    "# simulate all pairs of E and P\n",
    "ranking_results = list(itertools.product(ranking_scale, repeat=CUT_OFF_RANK))\n",
    "print(ranking_results)\n",
    "all_pairs = list(itertools.product(ranking_results, repeat=2))\n",
    "#print(all_pairs)\n",
    "print(len(all_pairs))"
   ]
  },
  {
   "cell_type": "code",
   "execution_count": 40,
   "metadata": {},
   "outputs": [
    {
     "data": {
      "text/plain": [
       "1"
      ]
     },
     "execution_count": 40,
     "metadata": {},
     "output_type": "execute_result"
    }
   ],
   "source": []
  },
  {
   "cell_type": "raw",
   "metadata": {},
   "source": []
  },
  {
   "cell_type": "code",
   "execution_count": 5,
   "metadata": {},
   "outputs": [],
   "source": [
    "def rel_grade_to_prob(grade):\n",
    "    #map relevance grade to probability\n",
    "    R_i = (2**grade)-1 / 2**(np.amax(ranking_scale))\n",
    "    return R_i\n",
    "\n",
    "\n",
    "def compute_err(ranked_results):\n",
    "    #According to Algorithm 2 in ERR-paper\n",
    "    err = 0    \n",
    "    for r in range(1,CUT_OFF_RANK+1):        \n",
    "        R_r = rel_grade_to_prob(ranked_results[r-1])\n",
    "        for i in range(1,r):\n",
    "            R_i = rel_grade_to_prob(ranked_results[i-1])\n",
    "            R_r = R_r * (1-R_i)        \n",
    "        err += R_r / r\n",
    "        \n",
    "    return err"
   ]
  },
  {
   "cell_type": "code",
   "execution_count": 6,
   "metadata": {},
   "outputs": [
    {
     "name": "stdout",
     "output_type": "stream",
     "text": [
      "[((0, 0, 0), 0.66666666666666663), ((0, 0, 1), 0.75), ((0, 1, 0), 0.83333333333333337), ((0, 1, 1), 0.75), ((1, 0, 0), 1.3333333333333333), ((1, 0, 1), 1.25), ((1, 1, 0), 1.1666666666666667), ((1, 1, 1), 1.25)]\n"
     ]
    }
   ],
   "source": [
    "#create lookup table for ranked_results - ERR\n",
    "dict_results_err = {}\n",
    "for ranked_list in ranking_results:\n",
    "    dict_results_err[ranked_list] = compute_err(ranked_list)\n",
    "    \n",
    "print(list(dict_results_err.items()))"
   ]
  },
  {
   "cell_type": "code",
   "execution_count": 7,
   "metadata": {},
   "outputs": [
    {
     "data": {
      "text/plain": [
       "[(0.05, 0.1), (0.1, 0.2), (0.2, 0.3), (0.3, 0.4), (0.4, 0.5)]"
      ]
     },
     "execution_count": 7,
     "metadata": {},
     "output_type": "execute_result"
    }
   ],
   "source": [
    "[(0.05,0.1),(0.1,0.2),(0.2,0.3),(0.3,0.4),(0.4,0.5)]"
   ]
  },
  {
   "cell_type": "code",
   "execution_count": 8,
   "metadata": {},
   "outputs": [
    {
     "name": "stdout",
     "output_type": "stream",
     "text": [
      "[(0.050000000000000003, 0.10000000000000001), (0.10000000000000001, 0.20000000000000001), (0.20000000000000001, 0.29999999999999999), (0.29999999999999999, 0.40000000000000002), (0.40000000000000002, 0.5), (0.5, 0.59999999999999998), (0.59999999999999998, 0.69999999999999996), (0.69999999999999996, 0.80000000000000004), (0.80000000000000004, 0.90000000000000002), (0.90000000000000002, 0.94999999999999996)]\n"
     ]
    }
   ],
   "source": [
    "lower_bonds = np.round(np.linspace(0,1,num=10, endpoint=False), decimals=2)\n",
    "lower_bonds[0] = 0.05\n",
    "upper_bonds = np.round(np.linspace(0.1,1,num=10), decimals=2)\n",
    "upper_bonds[-1] = 0.95\n",
    "bins = list(zip(lower_bonds, upper_bonds))\n",
    "print(bins)"
   ]
  },
  {
   "cell_type": "code",
   "execution_count": 85,
   "metadata": {},
   "outputs": [
    {
     "data": {
      "text/plain": [
       "0.6666666666666666"
      ]
     },
     "execution_count": 85,
     "metadata": {},
     "output_type": "execute_result"
    }
   ],
   "source": []
  },
  {
   "cell_type": "code",
   "execution_count": 9,
   "metadata": {},
   "outputs": [],
   "source": [
    "#Compute delta ERR\n",
    "dict_rel_pairs = {}\n",
    "for upper in upper_bonds:\n",
    "    dict_rel_pairs[upper] = []\n",
    "all_delta_err = []\n",
    "rel_delta_err = []\n",
    "\n",
    "for pair in all_pairs:    \n",
    "    #compute delta ERR   \n",
    "    delta_err = dict_results_err[pair[0]] - dict_results_err[pair[1]]    \n",
    "    #add pair to corresponding group if E outperforms P\n",
    "    if delta_err > lower_bonds[0]:        \n",
    "        for bond in upper_bonds:            \n",
    "            if delta_err < bond:                \n",
    "                dict_rel_pairs[bond].append(pair)                \n",
    "                rel_delta_err.append(delta_err)                \n",
    "                break"
   ]
  },
  {
   "cell_type": "code",
   "execution_count": 120,
   "metadata": {},
   "outputs": [],
   "source": [
    "#plt.hist(all_delta_err, bins=10)"
   ]
  },
  {
   "cell_type": "code",
   "execution_count": 10,
   "metadata": {},
   "outputs": [
    {
     "data": {
      "text/plain": [
       "<matplotlib.text.Text at 0x26a0cc66eb8>"
      ]
     },
     "execution_count": 10,
     "metadata": {},
     "output_type": "execute_result"
    },
    {
     "data": {
      "image/png": "[encoded data removed]",
      "text/plain": [
       "<matplotlib.figure.Figure at 0x26a0cc60dd8>"
      ]
     },
     "metadata": {
      "needs_background": "light"
     },
     "output_type": "display_data"
    }
   ],
   "source": [
    "plt.hist(rel_delta_err, bins=10)\n",
    "plt.ylabel(\"Number of pairs\")\n",
    "plt.xlabel(\"Delta ERR\")"
   ]
  },
  {
   "cell_type": "markdown",
   "metadata": {},
   "source": [
    "<b>Comment:</b> \n",
    "In interleaving: should we use document id's in order to prevent selecting the same document twice? \n",
    "\n",
    "Teacher said on (https://piazza.com/class/jp4hjyhusbk5i3?cid=41) that we should assume all cases (e.g. duplicate, replacement, ...). For me that means that we should implement something like document id's (at least in one instance) [HB]"
   ]
  },
  {
   "cell_type": "code",
   "execution_count": 11,
   "metadata": {},
   "outputs": [],
   "source": [
    "# add document numbers which allow that the documents returned can be distict but also can overlap\n",
    "# we considered there are 30 distinct documents in the collection D\n",
    "# we need these numbers for correctly computing Team-Draft/Probabilistic Interleaving\n",
    "def assign_doc_labels(pair):\n",
    "    labeled_pair = []\n",
    "    for ranked_list in pair:\n",
    "        doc_labels = []\n",
    "        docs_l = rnd.sample(range(1, 30), 3)        \n",
    "        for i in docs_l:\n",
    "            #generate doc labels\n",
    "            doc_labels.append(\"d{0}\".format(i))\n",
    "            \n",
    "        labeled_pair.append(list(zip(doc_labels,ranked_list)))\n",
    "    return labeled_pair"
   ]
  },
  {
   "cell_type": "code",
   "execution_count": null,
   "metadata": {},
   "outputs": [],
   "source": []
  },
  {
   "cell_type": "code",
   "execution_count": 12,
   "metadata": {},
   "outputs": [],
   "source": [
    "# TEAM-DRAFT INTERLEAVING\n",
    "\n",
    "# function which deletes a document from a list of documents\n",
    "def remove_document_from_list(d, d_list):    \n",
    "    for doc in d_list:        \n",
    "        if d[0] == doc[0]:\n",
    "            d_list.remove(doc)\n",
    "            break\n",
    "\n",
    "\n",
    "def team_draft_interleaving(pair, max_length=3):\n",
    "    '''\n",
    "    Input: pair of labelled search results from E and P\n",
    "    Output: Interleaved list that mixes the documents\n",
    "    \n",
    "    team-draft: select one of two lists with p=0.5 and aggregate top result to interleaved list\n",
    "    \n",
    "    Optional: team-id, document-id, max_length, \n",
    "    '''\n",
    "    labeled_pair = assign_doc_labels(pair) # list(doc_id , relevance_grade)\n",
    "    teams = {\"E\": list(labeled_pair[0]), \"P\": list(labeled_pair[1])}\n",
    "    interleaved_list = []\n",
    "    team_E = 0\n",
    "    team_P = 0   \n",
    "    \n",
    "    while(len(interleaved_list) < max_length):        \n",
    "        if team_E < team_P:\n",
    "            chosen_team = 'E'                  \n",
    "            chosen_doc = teams['E'].pop(0)\n",
    "            team_E += 1\n",
    "            remove_document_from_list(chosen_doc,teams['P'])\n",
    "        elif team_E > team_P:\n",
    "            chosen_team = 'P'                    \n",
    "            chosen_doc = teams['P'].pop(0)\n",
    "            team_P += 1\n",
    "            remove_document_from_list(chosen_doc,teams['E'])\n",
    "        elif team_E == team_P:\n",
    "            chosen_team = rnd.choice(list(teams.keys()))        \n",
    "            chosen_doc = teams[chosen_team].pop(0)\n",
    "            if chosen_team == 'E':               \n",
    "                team_E += 1\n",
    "                remove_document_from_list(chosen_doc,teams['P'])\n",
    "            else:             \n",
    "                team_P += 1\n",
    "                remove_document_from_list(chosen_doc,teams['E'])                \n",
    "                \n",
    "        interleaved_list.append((chosen_team,chosen_doc[1]))        \n",
    "\n",
    "    return interleaved_list"
   ]
  },
  {
   "cell_type": "code",
   "execution_count": 13,
   "metadata": {},
   "outputs": [],
   "source": [
    "test_pairs = dict_rel_pairs[0.1][:4]"
   ]
  },
  {
   "cell_type": "code",
   "execution_count": 14,
   "metadata": {},
   "outputs": [
    {
     "name": "stdout",
     "output_type": "stream",
     "text": [
      "[[('d21', 0), ('d16', 0), ('d14', 1)], [('d22', 0), ('d15', 0), ('d9', 0)]]\n",
      "[[('d13', 0), ('d24', 1), ('d22', 0)], [('d1', 0), ('d16', 0), ('d28', 1)]]\n",
      "[[('d6', 0), ('d9', 1), ('d17', 0)], [('d21', 0), ('d16', 1), ('d23', 1)]]\n",
      "[[('d26', 0), ('d7', 1), ('d21', 1)], [('d19', 0), ('d8', 0), ('d7', 0)]]\n"
     ]
    }
   ],
   "source": [
    "for pair in test_pairs:\n",
    "    print(assign_doc_labels(pair))"
   ]
  },
  {
   "cell_type": "code",
   "execution_count": 15,
   "metadata": {},
   "outputs": [
    {
     "name": "stdout",
     "output_type": "stream",
     "text": [
      "((0, 0, 1), (0, 0, 0))\n",
      "[('E', 0), ('P', 0), ('P', 0)]\n",
      "----\n",
      "((0, 1, 0), (0, 0, 1))\n",
      "[('E', 0), ('P', 0), ('E', 1)]\n",
      "----\n",
      "((0, 1, 0), (0, 1, 1))\n",
      "[('P', 0), ('E', 0), ('E', 1)]\n",
      "----\n",
      "((0, 1, 1), (0, 0, 0))\n",
      "[('P', 0), ('E', 0), ('E', 1)]\n",
      "----\n"
     ]
    }
   ],
   "source": [
    "for pair in test_pairs:\n",
    "    print(pair)\n",
    "    print(team_draft_interleaving(pair))\n",
    "    #print(pair)\n",
    "    print(\"----\")"
   ]
  },
  {
   "cell_type": "code",
   "execution_count": 16,
   "metadata": {},
   "outputs": [],
   "source": [
    "def inverse_power(x, power):\n",
    "    return 1/(x**power)\n",
    "\n",
    "def softmax_probabilities(num_ranks, tau=3):\n",
    "    #Following formula (1) from Probabilistic Interleaving paper\n",
    "    softmax_probs = []\n",
    "    ranks = range(1, num_ranks+1)\n",
    "    denominator = sum(list(inverse_power(r,tau) for r in ranks))\n",
    "    #print(denominator)\n",
    "    for rank in ranks:\n",
    "        softmax_probs.append(inverse_power(rank,tau)/denominator)\n",
    "    \n",
    "    return softmax_probs\n",
    "\n",
    "def probabilistic_interleaving(pair, max_length=3):\n",
    "    interleaved_list = []\n",
    "    labeled_pair = assign_doc_labels(pair) # list(doc_id , relevance_grade)\n",
    "    teams = {\"E\": list(labeled_pair[0]), \"P\": list(labeled_pair[1])}\n",
    "    \n",
    "    while(len(interleaved_list) < max_length):\n",
    "        chosen_team = rnd.choice(list(teams.keys()))\n",
    "        if chosen_team == 'E':\n",
    "            other_team = 'P'\n",
    "        else:\n",
    "            other_team = 'E'            \n",
    "        chosen_list = teams[chosen_team]        \n",
    "        \n",
    "        softmax_samples = softmax_probabilities(len(chosen_list))\n",
    "        uni_sample = np.random.uniform(low=0.0, high=1.0)\n",
    "        threshold = 0\n",
    "        #select doc from list with respect to probabilities\n",
    "        for prob in softmax_samples:\n",
    "            threshold += prob            \n",
    "            if uni_sample < threshold:                \n",
    "                chosen_doc = chosen_list.pop(softmax_samples.index(prob))\n",
    "                remove_document_from_list(chosen_doc,teams[other_team])            \n",
    "                interleaved_list.append((chosen_team,chosen_doc[1]))                  \n",
    "                break               \n",
    "    \n",
    "    return interleaved_list"
   ]
  },
  {
   "cell_type": "code",
   "execution_count": 19,
   "metadata": {},
   "outputs": [
    {
     "name": "stdout",
     "output_type": "stream",
     "text": [
      "((0, 0, 1), (0, 0, 0))\n",
      "[('P', 0), ('P', 0), ('E', 0)]\n",
      "----\n",
      "((0, 1, 0), (0, 0, 1))\n",
      "[('P', 0), ('P', 0), ('P', 1)]\n",
      "----\n",
      "((0, 1, 0), (0, 1, 1))\n",
      "[('P', 0), ('E', 0), ('P', 1)]\n",
      "----\n",
      "((0, 1, 1), (0, 0, 0))\n",
      "[('E', 0), ('P', 0), ('E', 1)]\n",
      "----\n"
     ]
    }
   ],
   "source": [
    "for pair in test_pairs:\n",
    "    print(pair)\n",
    "    print(probabilistic_interleaving(pair))\n",
    "    #print(pair)\n",
    "    print(\"----\")"
   ]
  },
  {
   "cell_type": "code",
   "execution_count": null,
   "metadata": {},
   "outputs": [],
   "source": []
  },
  {
   "cell_type": "code",
   "execution_count": 183,
   "metadata": {},
   "outputs": [
    {
     "data": {
      "text/plain": [
       "[0.8605577689243028, 0.10756972111553785, 0.03187250996015936]"
      ]
     },
     "execution_count": 183,
     "metadata": {},
     "output_type": "execute_result"
    }
   ],
   "source": [
    "softmax_probabilities(3)"
   ]
  },
  {
   "cell_type": "code",
   "execution_count": null,
   "metadata": {},
   "outputs": [],
   "source": []
  }
 ],
 "metadata": {
  "kernelspec": {
   "display_name": "Python 3",
   "language": "python",
   "name": "python3"
  },
  "language_info": {
   "codemirror_mode": {
    "name": "ipython",
    "version": 3
   },
   "file_extension": ".py",
   "mimetype": "text/x-python",
   "name": "python",
   "nbconvert_exporter": "python",
   "pygments_lexer": "ipython3",
   "version": "3.6.2"
  }
 },
 "nbformat": 4,
 "nbformat_minor": 2
}
